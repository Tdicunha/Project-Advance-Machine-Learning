{
 "cells": [
  {
   "cell_type": "markdown",
   "id": "2f7f1efc-083e-443a-a403-b4283237f9b0",
   "metadata": {},
   "source": [
    "# **Import Libraries**"
   ]
  },
  {
   "cell_type": "code",
   "execution_count": 1,
   "id": "c10c668c-dfa4-495a-b105-b8030ed607a9",
   "metadata": {},
   "outputs": [],
   "source": [
    "import numpy as np\n",
    "import pandas as pd\n",
    "import matplotlib.pyplot as plt\n",
    "import matplotlib.image as mpimg\n",
    "import matplotlib\n",
    "import seaborn as sns\n",
    "import cv2 as cv\n",
    "import csv\n",
    "from scipy import ndimage # permite utilizar uma função semelhante ao imfilter do matlab\n",
    "\n",
    "from sklearn.svm import SVC\n",
    "\n",
    "from sklearn.model_selection import train_test_split\n",
    "\n",
    "from sklearn import ensemble\n",
    "from sklearn.ensemble import BaggingClassifier\n",
    "from sklearn.ensemble import RandomForestClassifier\n",
    "from sklearn.ensemble import VotingClassifier\n",
    "from sklearn.ensemble import ExtraTreesClassifier\n",
    "\n",
    "from sklearn.linear_model import LogisticRegression\n",
    "\n",
    "from sklearn.naive_bayes import GaussianNB\n",
    "\n",
    "from sklearn.metrics import accuracy_score \n",
    "from sklearn.metrics import classification_report\n",
    "\n",
    "from sklearn import tree\n",
    "from sklearn.tree import DecisionTreeClassifier\n",
    "\n",
    "from sklearn.cluster import KMeans\n",
    "\n",
    "from sklearn.neighbors import KNeighborsClassifier\n",
    "\n",
    "from sklearn.neural_network import MLPClassifier\n",
    "\n",
    "import tensorflow as tf\n",
    "from tensorflow import keras\n",
    "from tensorflow.keras import layers, models\n",
    "from tensorflow.keras.losses import SparseCategoricalCrossentropy\n",
    "from tensorflow.keras.optimizers import RMSprop,SGD,Adam\n",
    "from tensorflow.keras.utils import to_categorical\n",
    "\n",
    "%matplotlib inline"
   ]
  },
  {
   "cell_type": "markdown",
   "id": "1ebb070a-a650-4bb5-882c-c8f271230852",
   "metadata": {},
   "source": [
    "# **Feature Extraction**"
   ]
  },
  {
   "cell_type": "code",
   "execution_count": 2,
   "id": "a3879d1f-0994-486c-b000-05d0950429cc",
   "metadata": {},
   "outputs": [
    {
     "name": "stdout",
     "output_type": "stream",
     "text": [
      "treino fake -> 50% done\n",
      "treino real -> 100% done\n",
      "(40000, 785)\n",
      "785\n",
      "       label  pixel1  pixel2  pixel3  pixel4  pixel5  pixel6  pixel7  pixel8  \\\n",
      "0          0       0       0       0       0       0       0       0       0   \n",
      "1          0       0       0       0       0       0       0       0       0   \n",
      "2          0       0       0       0       0       0       0       0       0   \n",
      "3          0       0       0       0       0       0       0       0       6   \n",
      "4          0       0       0       0       0       0       0       0       0   \n",
      "...      ...     ...     ...     ...     ...     ...     ...     ...     ...   \n",
      "39995      1       0       0       0       0       0       0       0       0   \n",
      "39996      1       0       0       0       0       0       0       0       0   \n",
      "39997      1       0       0       0       0       0       0       0       0   \n",
      "39998      1       0       0       0       0       0       0       0       0   \n",
      "39999      1       0       0       0       0       0       0       0       0   \n",
      "\n",
      "       pixel9  ...  pixel775  pixel776  pixel777  pixel778  pixel779  \\\n",
      "0           0  ...       119         0         0         0         0   \n",
      "1           0  ...        94        13         0         0         0   \n",
      "2           8  ...         0         0         0         0         0   \n",
      "3         128  ...       144         3         0         0         0   \n",
      "4           0  ...        79        73        79         7       117   \n",
      "...       ...  ...       ...       ...       ...       ...       ...   \n",
      "39995       1  ...       203       151         0         0         0   \n",
      "39996       0  ...        96         0         0         0         0   \n",
      "39997       0  ...         3         0         0         0         0   \n",
      "39998       0  ...         0         0         0         0         0   \n",
      "39999       1  ...         0         0         0        96       186   \n",
      "\n",
      "       pixel780  pixel781  pixel782  pixel783  pixel784  \n",
      "0             0         0         0         0         0  \n",
      "1             0         0         0         0         0  \n",
      "2             0         0         0         0         0  \n",
      "3             0         0         0         0         0  \n",
      "4           140        89        87         3         0  \n",
      "...         ...       ...       ...       ...       ...  \n",
      "39995         0         0         0         0         0  \n",
      "39996         0         0         0         0         0  \n",
      "39997         0         0         0         0         0  \n",
      "39998         0         0         0         0         0  \n",
      "39999       167         8         0         0         0  \n",
      "\n",
      "[40000 rows x 785 columns]\n"
     ]
    }
   ],
   "source": [
    "#Primeira parte do dataset-> 20000 imagens fake \n",
    "path= \"dataset_train/dataset_train/fake/image_{0:d}.png\"\n",
    "data=np.arange(785).ravel()\n",
    "for i in range (20000):\n",
    "    file_path=path.format(i)\n",
    "    img=cv.imread(file_path)\n",
    "    gray_image =cv.cvtColor(img, cv.COLOR_BGR2GRAY)\n",
    "    Class0 = np.array([gray_image])\n",
    "    Class0=np.ravel(Class0)\n",
    "    data=np.vstack([data, np.insert(Class0,0,0)]) \n",
    "\n",
    "print(\"treino fake -> 50% done\")\n",
    "#Segunda parte do dataset->20000 imagens real\n",
    "path= \"dataset_train/dataset_train/real/image_{0:d}.png\"\n",
    "for j in range(20000):\n",
    "    file_path=path.format(j)\n",
    "    img=cv.imread(file_path)\n",
    "    gray_image=cv.cvtColor(img, cv.COLOR_BGR2GRAY)\n",
    "    Class1= np.array(gray_image)\n",
    "    Class1=np.ravel(Class1)\n",
    "    data=np.vstack([data, np.insert(Class1,0,1)])\n",
    "\n",
    "data=np.delete(data,0,0)\n",
    "print(\"treino real -> 100% done\")\n",
    "print(data.shape)\n",
    "\n",
    "result=['label']\n",
    "\n",
    "for i in range(1,785):\n",
    "    result.append('pixel'+str(i))\n",
    "\n",
    "print(len(result))\n",
    "\n",
    "info=pd.DataFrame(data, columns=result)\n",
    "\n",
    "info.to_csv('dataset_treino.csv', index=False)\n",
    "print(info) "
   ]
  },
  {
   "cell_type": "code",
   "execution_count": 3,
   "id": "5f79203a-3f07-4589-b857-fc13d3e7434d",
   "metadata": {},
   "outputs": [
    {
     "name": "stdout",
     "output_type": "stream",
     "text": [
      "teste->100%\n"
     ]
    },
    {
     "data": {
      "text/plain": [
       "(2000, 784)"
      ]
     },
     "execution_count": 3,
     "metadata": {},
     "output_type": "execute_result"
    }
   ],
   "source": [
    "path= \"dataset_test\\dataset_test\\images/{0:d}.png\"\n",
    "data=np.arange(784).ravel()\n",
    "for i in range (0,2000):   \n",
    "    file_path=path.format(i)\n",
    "    img=cv.imread(file_path)\n",
    "    gray_img =cv.cvtColor(img, cv.COLOR_BGR2GRAY)\n",
    "    teste_img = np.array(gray_img)\n",
    "    teste_img = np.ravel(teste_img)\n",
    "    data=np.vstack([data, teste_img]) \n",
    "    \n",
    "data=np.delete(data,0,0)\n",
    "\n",
    "result=[]\n",
    "for i in range(1,785):\n",
    "    result.append('pixel'+str(i))\n",
    "    \n",
    "info=pd.DataFrame(data)\n",
    "\n",
    "info.to_csv('dataset_teste.csv', index=False)\n",
    "print(\"teste->100%\") \n",
    "data.shape"
   ]
  },
  {
   "cell_type": "markdown",
   "id": "bef525bd-d9dd-49c0-a992-c272d6d16a41",
   "metadata": {},
   "source": [
    "# **Feature extractiom e sobel filter**"
   ]
  },
  {
   "cell_type": "code",
   "execution_count": 4,
   "id": "02e84427-3cee-423a-83cd-80aebabcfb4a",
   "metadata": {},
   "outputs": [
    {
     "name": "stderr",
     "output_type": "stream",
     "text": [
      "C:\\Users\\Utilizador\\AppData\\Local\\Temp\\ipykernel_6820\\2492999795.py:6: DeprecationWarning: Please use `convolve` from the `scipy.ndimage` namespace, the `scipy.ndimage.filters` namespace is deprecated.\n",
      "  sobelx=ndimage.filters.convolve(img,kernelx)\n",
      "C:\\Users\\Utilizador\\AppData\\Local\\Temp\\ipykernel_6820\\2492999795.py:7: DeprecationWarning: Please use `convolve` from the `scipy.ndimage` namespace, the `scipy.ndimage.filters` namespace is deprecated.\n",
      "  sobely=ndimage.filters.convolve(img,kernely)\n"
     ]
    },
    {
     "name": "stdout",
     "output_type": "stream",
     "text": [
      "treino fake -> 50% done\n",
      "treino real -> 100% done\n",
      "(40000, 785)\n",
      "785\n",
      "       label  pixel1  pixel2  pixel3  pixel4  pixel5  pixel6  pixel7  pixel8  \\\n",
      "0          0       0       0       0       0       0       0       0       0   \n",
      "1          0       0       0       0       0       0       0       0       0   \n",
      "2          0       0       0       0       0       0       0       0       0   \n",
      "3          0       0       0       0       0       0       0       0       0   \n",
      "4          0       0       0       0       0       0       0       0       0   \n",
      "...      ...     ...     ...     ...     ...     ...     ...     ...     ...   \n",
      "39995      1       0       0       0       0       0       0       0       0   \n",
      "39996      1       0       0       0       0       0       0       0       0   \n",
      "39997      1       0       0       0       0       0       0       0       0   \n",
      "39998      1       0       0       0       0       0       0       0       0   \n",
      "39999      1       0       0       0       0       0       0       0       0   \n",
      "\n",
      "       pixel9  ...  pixel775  pixel776  pixel777  pixel778  pixel779  \\\n",
      "0           0  ...         0         0         0         0         0   \n",
      "1           0  ...         0         0         0         0         0   \n",
      "2           0  ...         0         0         0         0         0   \n",
      "3           0  ...         0         0         0         0         0   \n",
      "4           0  ...         0         0         0         0         0   \n",
      "...       ...  ...       ...       ...       ...       ...       ...   \n",
      "39995       0  ...         0         0         0         0         0   \n",
      "39996       0  ...         0         0         0         0         0   \n",
      "39997       0  ...         0         0         0         0         0   \n",
      "39998       0  ...         0         0         0         0         0   \n",
      "39999       0  ...         0         0         0         0         0   \n",
      "\n",
      "       pixel780  pixel781  pixel782  pixel783  pixel784  \n",
      "0             0         0         0         0         0  \n",
      "1             0         0         0         0         0  \n",
      "2             0         0         0         0         0  \n",
      "3             0         0         0         0         0  \n",
      "4             0         0         0         0         0  \n",
      "...         ...       ...       ...       ...       ...  \n",
      "39995         0         0         0         0         0  \n",
      "39996         0         0         0         0         0  \n",
      "39997         0         0         0         0         0  \n",
      "39998         0         0         0         0         0  \n",
      "39999         0         0         0         0         0  \n",
      "\n",
      "[40000 rows x 785 columns]\n"
     ]
    }
   ],
   "source": [
    "def sobel(img):\n",
    "    \n",
    "    kernelx=np.array([[-1, 0, 1], [-2, 0, 2], [-1, 0, 1]], np.float32)\n",
    "    kernely=np.array([[1, 2, 1], [0, 0, 0], [-1, -2, -1]], np.float32)\n",
    "    \n",
    "    sobelx=ndimage.filters.convolve(img,kernelx)\n",
    "    sobely=ndimage.filters.convolve(img,kernely)\n",
    "    \n",
    "    #sobelx=cv.Sobel(gray_image,cv.CV_64F,1,0,ksize=3)\n",
    "    #sobely=cv.Sobel(gray_image,cv.CV_64F,0,1,ksize=3)\n",
    "    \n",
    "    modulo= np.sqrt(np.square(sobelx)+np.square(sobely))\n",
    "    gradiente=np.arctan2(sobely,sobelx)\n",
    "    teta=np.rad2deg(gradiente)\n",
    "    \n",
    "    m=n=28\n",
    "    z=np.zeros((m,n),dtype=np.int32)\n",
    "\n",
    "    for i in range(2,m-1):\n",
    "        for j in range(2,n-1):\n",
    "            z[i,j]=modulo[i,j]\n",
    "            \n",
    "            if( (teta[i,j]>-22.5 and teta[i,j]<=22.5) or (teta[i,j]>157.5 and teta[i,j]<=180) or (teta[i,j]<-157.5 and teta[i,j]>=-180)):\n",
    "                if((modulo[i,j]<modulo[i,j-1]) or (modulo[i,j]<modulo[i,j+1])):\n",
    "                    z[i,j]=0\n",
    "            \n",
    "            elif((teta[i,j]>22.5 and teta[i,j]<=67.5) or (teta[i,j]>=-157.5 and teta[i,j]<-112.5)):\n",
    "                if((modulo[i,j]<modulo[i-1,j+1]) or (modulo[i,j]<modulo[i+1,j-1])):\n",
    "                     z[i,j]=0\n",
    "            \n",
    "            elif((teta[i,j]>67.5 and teta[i,j]<=112.5) or (teta[i,j]>=-112.5 and teta[i,j]<-67.5)):\n",
    "                if((modulo[i,j]<modulo[i-1,j]) or (modulo[i,j]<modulo[i+1,j])):\n",
    "                    z[i,j]=0\n",
    "            \n",
    "            elif( (teta[i,j]>112.5 and teta[i,j]<=157.5) or (teta[i,j]>=-67.5 and teta[i,j]<-22.5)):\n",
    "                if((modulo[i,j]<modulo[i-1,j-1]) or (modulo[i,j]<modulo[i+1,j+1])):\n",
    "                    z[i,j]=0;      \n",
    "    return z\n",
    "\n",
    "#Primeira parte do dataset-> 20000 imagens fake \n",
    "path= \"dataset_train/dataset_train/fake/image_{0:d}.png\"\n",
    "data=np.arange(785).ravel()\n",
    "for i in range (20000):\n",
    "    file_path=path.format(i)\n",
    "    img=cv.imread(file_path)\n",
    "    gray_image =cv.cvtColor(img, cv.COLOR_BGR2GRAY)\n",
    "    \n",
    "    #aplicação do filtro de sobel\n",
    "    image=sobel(gray_image)\n",
    "    \n",
    "    Class0 = np.array([image])\n",
    "    Class0=np.ravel(Class0)\n",
    "    data=np.vstack([data, np.insert(Class0,0,0)]) \n",
    "\n",
    "print(\"treino fake -> 50% done\")\n",
    "#Segunda parte do dataset->20000 imagens real\n",
    "path= \"dataset_train/dataset_train/real/image_{0:d}.png\"\n",
    "for j in range(20000):\n",
    "    file_path=path.format(j)\n",
    "    img=cv.imread(file_path)\n",
    "    gray_image=cv.cvtColor(img, cv.COLOR_BGR2GRAY)\n",
    "    \n",
    "    #aplicação do filtro de sobel\n",
    "    image=sobel(gray_image)\n",
    "    \n",
    "    Class1= np.array(image)\n",
    "    Class1=np.ravel(Class1)\n",
    "    data=np.vstack([data, np.insert(Class1,0,1)])\n",
    "\n",
    "data=np.delete(data,0,0)\n",
    "print(\"treino real -> 100% done\")\n",
    "print(data.shape)\n",
    "\n",
    "result=['label']\n",
    "\n",
    "for i in range(1,785):\n",
    "    result.append('pixel'+str(i))\n",
    "\n",
    "print(len(result))\n",
    "\n",
    "info=pd.DataFrame(data, columns=result)\n",
    "\n",
    "info.to_csv('sobel_train.csv', index=False)\n",
    "print(info) "
   ]
  },
  {
   "cell_type": "code",
   "execution_count": 5,
   "id": "517b1da1-53a8-4412-b408-b457031ca8ce",
   "metadata": {},
   "outputs": [
    {
     "name": "stderr",
     "output_type": "stream",
     "text": [
      "C:\\Users\\Utilizador\\AppData\\Local\\Temp\\ipykernel_6820\\3379311660.py:6: DeprecationWarning: Please use `convolve` from the `scipy.ndimage` namespace, the `scipy.ndimage.filters` namespace is deprecated.\n",
      "  sobelx=ndimage.filters.convolve(img,kernelx)\n",
      "C:\\Users\\Utilizador\\AppData\\Local\\Temp\\ipykernel_6820\\3379311660.py:7: DeprecationWarning: Please use `convolve` from the `scipy.ndimage` namespace, the `scipy.ndimage.filters` namespace is deprecated.\n",
      "  sobely=ndimage.filters.convolve(img,kernely)\n"
     ]
    },
    {
     "name": "stdout",
     "output_type": "stream",
     "text": [
      "teste->100%\n"
     ]
    },
    {
     "data": {
      "text/plain": [
       "(2000, 784)"
      ]
     },
     "execution_count": 5,
     "metadata": {},
     "output_type": "execute_result"
    }
   ],
   "source": [
    "def sobel(img):\n",
    "    \n",
    "    kernelx=np.array([[-1, 0, 1], [-2, 0, 2], [-1, 0, 1]], np.float32)\n",
    "    kernely=np.array([[1, 2, 1], [0, 0, 0], [-1, -2, -1]], np.float32)\n",
    "    \n",
    "    sobelx=ndimage.filters.convolve(img,kernelx)\n",
    "    sobely=ndimage.filters.convolve(img,kernely)\n",
    "    \n",
    "    #sobelx=cv.Sobel(gray_image,cv.CV_64F,1,0,ksize=3)\n",
    "    #sobely=cv.Sobel(gray_image,cv.CV_64F,0,1,ksize=3)\n",
    "    \n",
    "    modulo= np.sqrt(np.square(sobelx)+np.square(sobely))\n",
    "    gradiente=np.arctan2(sobely,sobelx)\n",
    "    teta=np.rad2deg(gradiente)\n",
    "    \n",
    "    m=n=28\n",
    "    z=np.zeros((m,n),dtype=np.int32)\n",
    "\n",
    "    for i in range(2,m-1):\n",
    "        for j in range(2,n-1):\n",
    "            z[i,j]=modulo[i,j]\n",
    "            \n",
    "            if( (teta[i,j]>-22.5 and teta[i,j]<=22.5) or (teta[i,j]>157.5 and teta[i,j]<=180) or (teta[i,j]<-157.5 and teta[i,j]>=-180)):\n",
    "                if((modulo[i,j]<modulo[i,j-1]) or (modulo[i,j]<modulo[i,j+1])):\n",
    "                    z[i,j]=0\n",
    "            \n",
    "            elif((teta[i,j]>22.5 and teta[i,j]<=67.5) or (teta[i,j]>=-157.5 and teta[i,j]<-112.5)):\n",
    "                if((modulo[i,j]<modulo[i-1,j+1]) or (modulo[i,j]<modulo[i+1,j-1])):\n",
    "                     z[i,j]=0\n",
    "            \n",
    "            elif((teta[i,j]>67.5 and teta[i,j]<=112.5) or (teta[i,j]>=-112.5 and teta[i,j]<-67.5)):\n",
    "                if((modulo[i,j]<modulo[i-1,j]) or (modulo[i,j]<modulo[i+1,j])):\n",
    "                    z[i,j]=0\n",
    "            \n",
    "            elif( (teta[i,j]>112.5 and teta[i,j]<=157.5) or (teta[i,j]>=-67.5 and teta[i,j]<-22.5)):\n",
    "                if((modulo[i,j]<modulo[i-1,j-1]) or (modulo[i,j]<modulo[i+1,j+1])):\n",
    "                    z[i,j]=0;      \n",
    "    return z\n",
    "\n",
    "path= \"dataset_test\\dataset_test\\images/{0:d}.png\"\n",
    "data=np.arange(784).ravel()\n",
    "for i in range (0,2000):   \n",
    "    file_path=path.format(i)\n",
    "    img=cv.imread(file_path)\n",
    "    gray_img =cv.cvtColor(img, cv.COLOR_BGR2GRAY)\n",
    "    \n",
    "    #aplicação do filtro de sobel\n",
    "    image=sobel(gray_img)\n",
    "    \n",
    "    teste_img = np.array(image)\n",
    "    teste_img = np.ravel(teste_img)\n",
    "    data=np.vstack([data, teste_img]) \n",
    "    \n",
    "data=np.delete(data,0,0)\n",
    "\n",
    "result=[]\n",
    "for i in range(1,785):\n",
    "    result.append('pixel'+str(i))\n",
    "    \n",
    "info=pd.DataFrame(data)\n",
    "\n",
    "info.to_csv('sobel_test.csv', index=False)\n",
    "print(\"teste->100%\") \n",
    "data.shape "
   ]
  },
  {
   "cell_type": "markdown",
   "id": "91740efe-0072-4f85-b6cf-46af9b922eb2",
   "metadata": {},
   "source": [
    "# **Data preparation**"
   ]
  },
  {
   "cell_type": "code",
   "execution_count": 2,
   "id": "a7d4b462-fe5c-4d54-bf91-ac9c5531e95e",
   "metadata": {},
   "outputs": [],
   "source": [
    "data_train = pd.read_csv('dataset_treino.csv')\n",
    "data_teste = pd.read_csv('dataset_teste.csv')\n",
    "\n",
    "\n",
    "#data_train = pd.read_csv('sobel_train.csv')\n",
    "#data_teste = pd.read_csv('sobel_test.csv')\n",
    "\n",
    "labels_train = data_train.iloc[:,0]\n",
    "features_train = data_train.iloc[:,1:]\n",
    "\n",
    "labels_train = labels_train.to_numpy()\n",
    "features_train = features_train.to_numpy()\n",
    "features_test = data_teste.to_numpy()\n",
    "\n",
    "features_train = features_train/255\n",
    "features_test = features_test/255"
   ]
  },
  {
   "cell_type": "code",
   "execution_count": 3,
   "id": "bbace018-c21f-4b2e-8eb1-b94677f022e6",
   "metadata": {},
   "outputs": [],
   "source": [
    "(X_train, X_test, Y_train, Y_test) = train_test_split( features_train, labels_train ,test_size= 0.30,shuffle=True)"
   ]
  },
  {
   "cell_type": "markdown",
   "id": "db7bb045-7621-49a2-ba23-169187f0658c",
   "metadata": {
    "tags": []
   },
   "source": [
    "# **Ensembles**"
   ]
  },
  {
   "cell_type": "markdown",
   "id": "7f07c181-7262-4189-b976-4708a712870e",
   "metadata": {
    "tags": []
   },
   "source": [
    "## **Random Forest**"
   ]
  },
  {
   "cell_type": "code",
   "execution_count": 4,
   "id": "7f56aa23-c742-4367-899c-8075feb09d31",
   "metadata": {},
   "outputs": [
    {
     "name": "stderr",
     "output_type": "stream",
     "text": [
      "[Parallel(n_jobs=1)]: Using backend SequentialBackend with 1 concurrent workers.\n",
      "[Parallel(n_jobs=1)]: Done 100 out of 100 | elapsed:   30.1s finished\n"
     ]
    }
   ],
   "source": [
    "rnd = RandomForestClassifier(criterion='entropy', max_depth=15, min_samples_leaf=5,verbose=True).fit(X_train,Y_train)"
   ]
  },
  {
   "cell_type": "code",
   "execution_count": 5,
   "id": "0ddbefbb-89ae-46a0-b82d-838e559d38ae",
   "metadata": {},
   "outputs": [
    {
     "name": "stderr",
     "output_type": "stream",
     "text": [
      "[Parallel(n_jobs=1)]: Using backend SequentialBackend with 1 concurrent workers.\n",
      "[Parallel(n_jobs=1)]: Done 100 out of 100 | elapsed:    0.2s finished\n"
     ]
    },
    {
     "data": {
      "text/plain": [
       "0.9214166666666667"
      ]
     },
     "execution_count": 5,
     "metadata": {},
     "output_type": "execute_result"
    }
   ],
   "source": [
    "y_perd=rnd.predict(X_test)\n",
    "accuracy_score(Y_test, y_perd)"
   ]
  },
  {
   "cell_type": "code",
   "execution_count": 6,
   "id": "207a3747-e2ff-4e38-862d-83f15d8ee374",
   "metadata": {},
   "outputs": [
    {
     "name": "stderr",
     "output_type": "stream",
     "text": [
      "[Parallel(n_jobs=1)]: Using backend SequentialBackend with 1 concurrent workers.\n",
      "[Parallel(n_jobs=1)]: Done 100 out of 100 | elapsed:    0.0s finished\n"
     ]
    },
    {
     "data": {
      "text/plain": [
       "868"
      ]
     },
     "execution_count": 6,
     "metadata": {},
     "output_type": "execute_result"
    }
   ],
   "source": [
    "teste_predicted=rnd.predict(features_test)\n",
    "teste_predicted.sum()"
   ]
  },
  {
   "cell_type": "code",
   "execution_count": 7,
   "id": "dd07dff5-2371-4792-aeb6-3c2374c4dbde",
   "metadata": {},
   "outputs": [],
   "source": [
    "teste_predicted=teste_predicted.reshape(2000,1)\n",
    "d=np.arange(2000).reshape(2000,1)\n",
    "#data=np.column_stack((d,teste_predicted))\n",
    "data=np.hstack([d, teste_predicted])\n",
    "data=pd.DataFrame(data,columns=[\"Id\",\"Category\"])\n",
    "data.to_csv('predict_RForest.csv', index=False)"
   ]
  },
  {
   "cell_type": "code",
   "execution_count": 8,
   "id": "1c50ddaf-8916-4a64-bde0-554c59c30270",
   "metadata": {},
   "outputs": [
    {
     "name": "stdout",
     "output_type": "stream",
     "text": [
      "              precision    recall  f1-score   support\n",
      "\n",
      "           0       0.87      0.98      0.93      5964\n",
      "           1       0.98      0.86      0.92      6036\n",
      "\n",
      "    accuracy                           0.92     12000\n",
      "   macro avg       0.93      0.92      0.92     12000\n",
      "weighted avg       0.93      0.92      0.92     12000\n",
      "\n"
     ]
    }
   ],
   "source": [
    "print(classification_report(Y_test,y_perd))"
   ]
  },
  {
   "cell_type": "markdown",
   "id": "cc110e93-2b36-4e0f-a3aa-f59f697a0189",
   "metadata": {},
   "source": [
    "## **Bagging**"
   ]
  },
  {
   "cell_type": "code",
   "execution_count": 9,
   "id": "2685faf6-dc9a-43f5-9c70-0a73aca94f4f",
   "metadata": {},
   "outputs": [
    {
     "name": "stderr",
     "output_type": "stream",
     "text": [
      "[Parallel(n_jobs=1)]: Using backend SequentialBackend with 1 concurrent workers.\n",
      "[Parallel(n_jobs=1)]: Done   1 out of   1 | elapsed:  3.4min finished\n"
     ]
    }
   ],
   "source": [
    "bg = BaggingClassifier(warm_start = True, base_estimator=SVC(), n_estimators=2, random_state=0,verbose=True).fit(X_train,Y_train)"
   ]
  },
  {
   "cell_type": "code",
   "execution_count": 10,
   "id": "06b7e744-9d82-4e21-a3c5-e9c4a02ea059",
   "metadata": {},
   "outputs": [
    {
     "name": "stderr",
     "output_type": "stream",
     "text": [
      "[Parallel(n_jobs=1)]: Using backend SequentialBackend with 1 concurrent workers.\n",
      "[Parallel(n_jobs=1)]: Done   1 out of   1 | elapsed:  2.0min finished\n"
     ]
    },
    {
     "data": {
      "text/plain": [
       "0.9668333333333333"
      ]
     },
     "execution_count": 10,
     "metadata": {},
     "output_type": "execute_result"
    }
   ],
   "source": [
    "y_perd=bg.predict(X_test)\n",
    "accuracy_score(Y_test, y_perd)"
   ]
  },
  {
   "cell_type": "code",
   "execution_count": 11,
   "id": "2021ed7c-cc99-48bd-ba5b-96c0f903eedb",
   "metadata": {},
   "outputs": [
    {
     "name": "stderr",
     "output_type": "stream",
     "text": [
      "[Parallel(n_jobs=1)]: Using backend SequentialBackend with 1 concurrent workers.\n",
      "[Parallel(n_jobs=1)]: Done   1 out of   1 | elapsed:   19.4s finished\n"
     ]
    },
    {
     "data": {
      "text/plain": [
       "997"
      ]
     },
     "execution_count": 11,
     "metadata": {},
     "output_type": "execute_result"
    }
   ],
   "source": [
    "teste_predicted=bg.predict(features_test)\n",
    "teste_predicted.sum()"
   ]
  },
  {
   "cell_type": "code",
   "execution_count": 12,
   "id": "cf383eb2-022c-4496-ab77-30485df524db",
   "metadata": {},
   "outputs": [],
   "source": [
    "teste_predicted=teste_predicted.reshape(2000,1)\n",
    "d=np.arange(2000).reshape(2000,1)\n",
    "#data=np.column_stack((d,teste_predicted))\n",
    "data=np.hstack([d, teste_predicted])\n",
    "data=pd.DataFrame(data,columns=[\"Id\",\"Category\"])\n",
    "data.to_csv('predict_Bagging.csv', index=False)"
   ]
  },
  {
   "cell_type": "code",
   "execution_count": 13,
   "id": "98a30ea2-b3a6-4883-b473-2865c4c6382c",
   "metadata": {},
   "outputs": [
    {
     "name": "stdout",
     "output_type": "stream",
     "text": [
      "              precision    recall  f1-score   support\n",
      "\n",
      "           0       0.96      0.98      0.97      5964\n",
      "           1       0.98      0.96      0.97      6036\n",
      "\n",
      "    accuracy                           0.97     12000\n",
      "   macro avg       0.97      0.97      0.97     12000\n",
      "weighted avg       0.97      0.97      0.97     12000\n",
      "\n"
     ]
    }
   ],
   "source": [
    "print(classification_report(Y_test,y_perd))"
   ]
  },
  {
   "cell_type": "markdown",
   "id": "8efcc74b-8e9a-4099-a76d-a206131b396f",
   "metadata": {},
   "source": [
    "## **Boosting**"
   ]
  },
  {
   "cell_type": "code",
   "execution_count": 14,
   "id": "4dffc27e-13d5-4064-964f-c825ed6c9c56",
   "metadata": {},
   "outputs": [
    {
     "name": "stdout",
     "output_type": "stream",
     "text": [
      "      Iter       Train Loss   Remaining Time \n",
      "         1           1.3584           24.53m\n",
      "         2           1.3377           23.99m\n",
      "         3           1.3170           23.53m\n",
      "         4           1.2944           23.30m\n",
      "         5           1.2780           23.30m\n",
      "         6           1.2617           23.21m\n",
      "         7           1.2466           23.17m\n",
      "         8           1.2347           23.11m\n",
      "         9           1.2208           23.22m\n",
      "        10           1.2064           23.47m\n",
      "        20           1.0791           22.59m\n",
      "        30           0.9830           21.94m\n",
      "        40           0.9066           21.29m\n",
      "        50           0.8454           20.75m\n",
      "        60           0.7930           20.12m\n",
      "        70           0.7418           19.51m\n",
      "        80           0.7049           19.00m\n",
      "        90           0.6590           18.33m\n",
      "       100           0.6192           17.71m\n",
      "       200           0.3598           11.61m\n",
      "       300           0.2245            5.77m\n",
      "       400           0.1466            0.00s\n"
     ]
    }
   ],
   "source": [
    "bs = ensemble.GradientBoostingClassifier(n_estimators=400, learning_rate=0.1, max_depth=4, random_state=0,verbose=1).fit(X_train,Y_train)"
   ]
  },
  {
   "cell_type": "code",
   "execution_count": 15,
   "id": "a80312ce-4ac6-48f9-a179-ab302f0de6f7",
   "metadata": {},
   "outputs": [
    {
     "data": {
      "text/plain": [
       "0.986"
      ]
     },
     "execution_count": 15,
     "metadata": {},
     "output_type": "execute_result"
    }
   ],
   "source": [
    "y_perd=bs.predict(X_test)\n",
    "accuracy_score(Y_test, y_perd)"
   ]
  },
  {
   "cell_type": "code",
   "execution_count": 16,
   "id": "e95cb545-5b6a-4785-9a2f-fea64e10e02d",
   "metadata": {},
   "outputs": [
    {
     "data": {
      "text/plain": [
       "986"
      ]
     },
     "execution_count": 16,
     "metadata": {},
     "output_type": "execute_result"
    }
   ],
   "source": [
    "teste_predicted=bs.predict(features_test)\n",
    "teste_predicted.sum()"
   ]
  },
  {
   "cell_type": "code",
   "execution_count": 17,
   "id": "3cfbb7e7-015e-4382-99f7-a789f915d1c0",
   "metadata": {},
   "outputs": [],
   "source": [
    "teste_predicted=teste_predicted.reshape(2000,1)\n",
    "d=np.arange(2000).reshape(2000,1)\n",
    "#data=np.column_stack((d,teste_predicted))\n",
    "data=np.hstack([d, teste_predicted])\n",
    "data=pd.DataFrame(data,columns=[\"Id\",\"Category\"])\n",
    "data.to_csv('predict_Boosting.csv', index=False)"
   ]
  },
  {
   "cell_type": "code",
   "execution_count": 18,
   "id": "e3490311-fae6-48d3-acb1-ae81fcb7b595",
   "metadata": {},
   "outputs": [
    {
     "name": "stdout",
     "output_type": "stream",
     "text": [
      "              precision    recall  f1-score   support\n",
      "\n",
      "           0       0.98      0.99      0.99      5964\n",
      "           1       0.99      0.98      0.99      6036\n",
      "\n",
      "    accuracy                           0.99     12000\n",
      "   macro avg       0.99      0.99      0.99     12000\n",
      "weighted avg       0.99      0.99      0.99     12000\n",
      "\n"
     ]
    }
   ],
   "source": [
    "print(classification_report(Y_test,y_perd))"
   ]
  },
  {
   "cell_type": "markdown",
   "id": "8c27e8c1-08e6-4817-b76e-c73bca69e842",
   "metadata": {},
   "source": [
    "## **Majority Voting**"
   ]
  },
  {
   "cell_type": "code",
   "execution_count": 19,
   "id": "92d1b528-2f6b-40cf-8c20-854468f20726",
   "metadata": {},
   "outputs": [],
   "source": [
    "#acho que n é esta função(classificador) nas cenas do sklearn estimators é um array\n",
    "clf1 = LogisticRegression(multi_class='multinomial', max_iter=5000, random_state=1,verbose=True)\n",
    "clf2 = RandomForestClassifier(n_estimators = 500, random_state=1,verbose=True)\n",
    "clf3 = MLPClassifier(hidden_layer_sizes=(250,40), max_iter=300,solver=\"adam\",learning_rate_init=0.0001,verbose=True)\n",
    "\n",
    "mv = VotingClassifier(estimators=[('lr', clf1), ('rf', clf2), ('mlp', clf3)], voting = 'hard',verbose=True,n_jobs=-1).fit(X_train,Y_train)\n",
    "#mv = VotingClassifier(estimators=[('lr', clf1), ('rf', clf2), ('gnb', clf3)], voting='soft', flatten_transform=True).fit(X_train,Y_train)"
   ]
  },
  {
   "cell_type": "code",
   "execution_count": 20,
   "id": "81503fdb-ba54-47ba-bd82-ea70be3f187e",
   "metadata": {},
   "outputs": [
    {
     "name": "stderr",
     "output_type": "stream",
     "text": [
      "[Parallel(n_jobs=1)]: Using backend SequentialBackend with 1 concurrent workers.\n",
      "[Parallel(n_jobs=1)]: Done 500 out of 500 | elapsed:    2.3s finished\n"
     ]
    },
    {
     "data": {
      "text/plain": [
       "0.9819166666666667"
      ]
     },
     "execution_count": 20,
     "metadata": {},
     "output_type": "execute_result"
    }
   ],
   "source": [
    "y_perd = mv.predict(X_test)\n",
    "accuracy_score(Y_test, y_perd)"
   ]
  },
  {
   "cell_type": "code",
   "execution_count": 21,
   "id": "9956f698-99b8-4ccf-a95b-d04dd2b76009",
   "metadata": {},
   "outputs": [
    {
     "name": "stderr",
     "output_type": "stream",
     "text": [
      "[Parallel(n_jobs=1)]: Using backend SequentialBackend with 1 concurrent workers.\n",
      "[Parallel(n_jobs=1)]: Done 500 out of 500 | elapsed:    0.2s finished\n"
     ]
    },
    {
     "data": {
      "text/plain": [
       "1004"
      ]
     },
     "execution_count": 21,
     "metadata": {},
     "output_type": "execute_result"
    }
   ],
   "source": [
    "teste_predicted = mv.predict(features_test)\n",
    "teste_predicted.sum()"
   ]
  },
  {
   "cell_type": "code",
   "execution_count": 22,
   "id": "5077c0d0-764b-4914-8f36-335d0f96e7a5",
   "metadata": {},
   "outputs": [],
   "source": [
    "teste_predicted=teste_predicted.reshape(2000,1)\n",
    "d=np.arange(2000).reshape(2000,1)\n",
    "#data=np.column_stack((d,teste_predicted))\n",
    "data=np.hstack([d, teste_predicted])\n",
    "data=pd.DataFrame(data,columns=[\"Id\",\"Category\"])\n",
    "data.to_csv('predict_MVoting.csv', index=False)"
   ]
  },
  {
   "cell_type": "code",
   "execution_count": 23,
   "id": "d9c11037-18cd-437f-81c2-34aa813bec8b",
   "metadata": {},
   "outputs": [
    {
     "name": "stdout",
     "output_type": "stream",
     "text": [
      "              precision    recall  f1-score   support\n",
      "\n",
      "           0       0.98      0.98      0.98      5964\n",
      "           1       0.98      0.98      0.98      6036\n",
      "\n",
      "    accuracy                           0.98     12000\n",
      "   macro avg       0.98      0.98      0.98     12000\n",
      "weighted avg       0.98      0.98      0.98     12000\n",
      "\n"
     ]
    }
   ],
   "source": [
    "print(classification_report(Y_test,y_perd))"
   ]
  },
  {
   "cell_type": "markdown",
   "id": "ad439cd2-07dc-4b99-92fa-b76bc83fceaf",
   "metadata": {},
   "source": [
    "## **Extra Trees**"
   ]
  },
  {
   "cell_type": "code",
   "execution_count": 24,
   "id": "728a8049-d10b-492a-9653-70c21cd0bf41",
   "metadata": {},
   "outputs": [],
   "source": [
    "et = ExtraTreesClassifier(n_estimators=300).fit(X_train,Y_train)"
   ]
  },
  {
   "cell_type": "code",
   "execution_count": 25,
   "id": "87ebaaf8-4f36-480c-bbec-55db8bafbc1c",
   "metadata": {},
   "outputs": [
    {
     "data": {
      "text/plain": [
       "0.9808333333333333"
      ]
     },
     "execution_count": 25,
     "metadata": {},
     "output_type": "execute_result"
    }
   ],
   "source": [
    "y_perd=et.predict(X_test)\n",
    "accuracy_score(Y_test, y_perd)"
   ]
  },
  {
   "cell_type": "code",
   "execution_count": 26,
   "id": "8a7b55cc-242c-4409-be96-192c91eff21c",
   "metadata": {},
   "outputs": [
    {
     "data": {
      "text/plain": [
       "1010"
      ]
     },
     "execution_count": 26,
     "metadata": {},
     "output_type": "execute_result"
    }
   ],
   "source": [
    "teste_predicted=et.predict(features_test)\n",
    "teste_predicted.sum()"
   ]
  },
  {
   "cell_type": "code",
   "execution_count": 27,
   "id": "5803e53d-2d89-4626-ad59-72e414babb17",
   "metadata": {},
   "outputs": [],
   "source": [
    "teste_predicted=teste_predicted.reshape(2000,1)\n",
    "d=np.arange(2000).reshape(2000,1)\n",
    "#data=np.column_stack((d,teste_predicted))\n",
    "data=np.hstack([d, teste_predicted])\n",
    "data=pd.DataFrame(data,columns=[\"Id\",\"Category\"])\n",
    "data.to_csv('predict_ETrees.csv', index=False)"
   ]
  },
  {
   "cell_type": "code",
   "execution_count": 28,
   "id": "68524b6e-8aa4-4c36-8799-2cce6c46f1df",
   "metadata": {},
   "outputs": [
    {
     "name": "stdout",
     "output_type": "stream",
     "text": [
      "              precision    recall  f1-score   support\n",
      "\n",
      "           0       0.98      0.98      0.98      5964\n",
      "           1       0.98      0.98      0.98      6036\n",
      "\n",
      "    accuracy                           0.98     12000\n",
      "   macro avg       0.98      0.98      0.98     12000\n",
      "weighted avg       0.98      0.98      0.98     12000\n",
      "\n"
     ]
    }
   ],
   "source": [
    "print(classification_report(Y_test,y_perd))"
   ]
  },
  {
   "cell_type": "markdown",
   "id": "f06e2663-50ce-494d-b5b1-4c4a6d304e87",
   "metadata": {},
   "source": [
    "# **Decision Tree**"
   ]
  },
  {
   "cell_type": "code",
   "execution_count": 29,
   "id": "34b08f7c-0a0a-4624-8947-dcf19d03b685",
   "metadata": {},
   "outputs": [],
   "source": [
    "dt = DecisionTreeClassifier(criterion = 'entropy').fit(X_train,Y_train)"
   ]
  },
  {
   "cell_type": "code",
   "execution_count": 30,
   "id": "b41d237b-330a-40b6-ae71-8ba700fe728d",
   "metadata": {},
   "outputs": [
    {
     "data": {
      "text/plain": [
       "13964"
      ]
     },
     "execution_count": 30,
     "metadata": {},
     "output_type": "execute_result"
    }
   ],
   "source": [
    "Y_train.sum()"
   ]
  },
  {
   "cell_type": "code",
   "execution_count": 31,
   "id": "cd49116f-64db-4801-ab0a-fbd7c9f8072d",
   "metadata": {},
   "outputs": [
    {
     "data": {
      "text/plain": [
       "0.8785833333333334"
      ]
     },
     "execution_count": 31,
     "metadata": {},
     "output_type": "execute_result"
    }
   ],
   "source": [
    "y_perd = dt.predict(X_test)\n",
    "accuracy_score(Y_test, y_perd)"
   ]
  },
  {
   "cell_type": "code",
   "execution_count": 32,
   "id": "c1fbf601-50d8-4a72-94d2-553adf618ccf",
   "metadata": {},
   "outputs": [],
   "source": [
    "teste_predicted=dt.predict(features_test)\n",
    "d=np.arange(0, 2000, 1)\n",
    "data=pd.DataFrame({'Id':d,'Category':teste_predicted})\n",
    "data.to_csv('predict_Dtree.csv', index=False)"
   ]
  },
  {
   "cell_type": "code",
   "execution_count": 33,
   "id": "bc2845a6-409f-411b-b3b8-eafb67551261",
   "metadata": {},
   "outputs": [
    {
     "data": {
      "text/plain": [
       "959"
      ]
     },
     "execution_count": 33,
     "metadata": {},
     "output_type": "execute_result"
    }
   ],
   "source": [
    "teste_predicted.sum()"
   ]
  },
  {
   "cell_type": "code",
   "execution_count": 34,
   "id": "bccb0d4d-b8a0-4725-95e1-2842e96c25cd",
   "metadata": {},
   "outputs": [
    {
     "name": "stdout",
     "output_type": "stream",
     "text": [
      "              precision    recall  f1-score   support\n",
      "\n",
      "           0       0.87      0.89      0.88      5964\n",
      "           1       0.89      0.87      0.88      6036\n",
      "\n",
      "    accuracy                           0.88     12000\n",
      "   macro avg       0.88      0.88      0.88     12000\n",
      "weighted avg       0.88      0.88      0.88     12000\n",
      "\n"
     ]
    }
   ],
   "source": [
    "print(classification_report(Y_test,y_perd))"
   ]
  },
  {
   "cell_type": "markdown",
   "id": "e32ba926-b898-4045-a259-c85e2055d948",
   "metadata": {},
   "source": [
    "# **K Means**"
   ]
  },
  {
   "cell_type": "code",
   "execution_count": 35,
   "id": "3584b8f0-f5aa-4f3d-987f-f6c8ca7def3c",
   "metadata": {},
   "outputs": [],
   "source": [
    "kmeans = KMeans(n_clusters=2, random_state = 0).fit(X_train, Y_train)"
   ]
  },
  {
   "cell_type": "code",
   "execution_count": 36,
   "id": "f60cf3df-0755-4a8a-a7b8-7c8fbe47d4ed",
   "metadata": {},
   "outputs": [
    {
     "data": {
      "text/plain": [
       "0.48191666666666666"
      ]
     },
     "execution_count": 36,
     "metadata": {},
     "output_type": "execute_result"
    }
   ],
   "source": [
    "y_perd=kmeans.predict(X_test)\n",
    "accuracy_score(Y_test, y_perd)"
   ]
  },
  {
   "cell_type": "code",
   "execution_count": 37,
   "id": "18d0fb9f-6bcb-49cc-b4a2-22eef1382299",
   "metadata": {},
   "outputs": [
    {
     "data": {
      "text/plain": [
       "1160"
      ]
     },
     "execution_count": 37,
     "metadata": {},
     "output_type": "execute_result"
    }
   ],
   "source": [
    "teste_predicted=kmeans.predict(features_test)\n",
    "teste_predicted.sum()"
   ]
  },
  {
   "cell_type": "code",
   "execution_count": 38,
   "id": "8e16f892-7517-4113-811f-e31574e28345",
   "metadata": {},
   "outputs": [],
   "source": [
    "teste_predicted=teste_predicted.reshape(2000,1)\n",
    "d=np.arange(2000).reshape(2000,1)\n",
    "#data=np.column_stack((d,teste_predicted))\n",
    "data=np.hstack([d, teste_predicted])\n",
    "data=pd.DataFrame(data,columns=[\"Id\",\"Category\"])\n",
    "data.to_csv('predict_KMeans.csv', index=False)"
   ]
  },
  {
   "cell_type": "code",
   "execution_count": 39,
   "id": "5cc371e8-c90a-45de-b2d7-095d797db6db",
   "metadata": {},
   "outputs": [
    {
     "name": "stdout",
     "output_type": "stream",
     "text": [
      "              precision    recall  f1-score   support\n",
      "\n",
      "           0       0.47      0.39      0.43      5964\n",
      "           1       0.49      0.57      0.52      6036\n",
      "\n",
      "    accuracy                           0.48     12000\n",
      "   macro avg       0.48      0.48      0.48     12000\n",
      "weighted avg       0.48      0.48      0.48     12000\n",
      "\n"
     ]
    }
   ],
   "source": [
    "print(classification_report(Y_test,y_perd))"
   ]
  },
  {
   "cell_type": "markdown",
   "id": "23abf418-a397-440b-842f-eeb10669c0ff",
   "metadata": {},
   "source": [
    "# **KNN**"
   ]
  },
  {
   "cell_type": "code",
   "execution_count": 40,
   "id": "abae8157-afc9-4b9f-9b50-28264b4a1d0e",
   "metadata": {},
   "outputs": [],
   "source": [
    "knn = KNeighborsClassifier(n_neighbors=3,weights='uniform',algorithm= 'ball_tree').fit(X_train,Y_train)"
   ]
  },
  {
   "cell_type": "code",
   "execution_count": 41,
   "id": "cee89445-6433-44c1-9ef7-dd69982b09c2",
   "metadata": {},
   "outputs": [
    {
     "data": {
      "text/plain": [
       "0.8848333333333334"
      ]
     },
     "execution_count": 41,
     "metadata": {},
     "output_type": "execute_result"
    }
   ],
   "source": [
    "y_pred = knn.predict(X_test)\n",
    "accuracy_score(Y_test, y_pred)"
   ]
  },
  {
   "cell_type": "code",
   "execution_count": 42,
   "id": "6c946200-5adc-47f6-b24a-895c77eb166d",
   "metadata": {},
   "outputs": [],
   "source": [
    "teste_predicted = knn.predict(features_test)\n",
    "teste_predicted = teste_predicted.reshape(2000,1)\n",
    "d = np.arange(2000).reshape(2000,1)\n",
    "#data=np.column_stack((d,teste_predicted))\n",
    "data = np.hstack([d, teste_predicted])\n",
    "data = pd.DataFrame(data,columns=[\"Id\",\"Category\"])\n",
    "data.to_csv('predict_KNN.csv', index=False)"
   ]
  },
  {
   "cell_type": "code",
   "execution_count": 43,
   "id": "c589344e-768e-49b2-b8ad-3cf9d7c9d936",
   "metadata": {},
   "outputs": [
    {
     "data": {
      "text/plain": [
       "832"
      ]
     },
     "execution_count": 43,
     "metadata": {},
     "output_type": "execute_result"
    }
   ],
   "source": [
    "#Debug\n",
    "teste_predicted.sum()"
   ]
  },
  {
   "cell_type": "code",
   "execution_count": 44,
   "id": "4f3561fd-cdb6-42f5-afcf-f8ff3bc54592",
   "metadata": {},
   "outputs": [
    {
     "name": "stdout",
     "output_type": "stream",
     "text": [
      "              precision    recall  f1-score   support\n",
      "\n",
      "           0       0.83      0.96      0.89      5964\n",
      "           1       0.96      0.81      0.88      6036\n",
      "\n",
      "    accuracy                           0.88     12000\n",
      "   macro avg       0.89      0.89      0.88     12000\n",
      "weighted avg       0.89      0.88      0.88     12000\n",
      "\n"
     ]
    }
   ],
   "source": [
    "print(classification_report(Y_test,y_pred))"
   ]
  },
  {
   "cell_type": "markdown",
   "id": "f71d85c4-4668-4724-b219-90e1505b04b9",
   "metadata": {},
   "source": [
    "# **Logistic sigmoid**"
   ]
  },
  {
   "cell_type": "code",
   "execution_count": 45,
   "id": "3b25c81d-582d-4354-881c-8d40d5e00ee9",
   "metadata": {},
   "outputs": [],
   "source": [
    "lg=LogisticRegression(penalty='l2',class_weight='balanced',solver='sag',max_iter=5000).fit(X_train,Y_train)"
   ]
  },
  {
   "cell_type": "code",
   "execution_count": 46,
   "id": "74a9a6ac-856c-473a-b6e9-600d2cbf0fc6",
   "metadata": {},
   "outputs": [
    {
     "data": {
      "text/plain": [
       "0.8675833333333334"
      ]
     },
     "execution_count": 46,
     "metadata": {},
     "output_type": "execute_result"
    }
   ],
   "source": [
    "y_perd=lg.predict(X_test)\n",
    "accuracy_score(Y_test, y_perd)"
   ]
  },
  {
   "cell_type": "code",
   "execution_count": 47,
   "id": "ab633967-63e8-4996-b05d-eb45f187cf94",
   "metadata": {},
   "outputs": [],
   "source": [
    "teste_predicted=lg.predict(features_test)"
   ]
  },
  {
   "cell_type": "code",
   "execution_count": 48,
   "id": "252c020b-61d4-45cd-85b3-282d57e0c26b",
   "metadata": {},
   "outputs": [],
   "source": [
    "teste_predicted=teste_predicted.reshape(2000,1)\n",
    "d=np.arange(2000).reshape(2000,1)\n",
    "data=np.hstack([d, teste_predicted])\n",
    "data=pd.DataFrame(data,columns=[\"Id\",\"Category\"])\n",
    "data.to_csv('predict_LSigmoid.csv', index=False)"
   ]
  },
  {
   "cell_type": "code",
   "execution_count": 49,
   "id": "d8030b98-82cc-4a51-bf93-42b22f32444e",
   "metadata": {},
   "outputs": [
    {
     "data": {
      "text/plain": [
       "968"
      ]
     },
     "execution_count": 49,
     "metadata": {},
     "output_type": "execute_result"
    }
   ],
   "source": [
    "teste_predicted.sum()"
   ]
  },
  {
   "cell_type": "code",
   "execution_count": 50,
   "id": "5aee5166-cedd-4463-8893-f28f685f2af6",
   "metadata": {},
   "outputs": [
    {
     "name": "stdout",
     "output_type": "stream",
     "text": [
      "              precision    recall  f1-score   support\n",
      "\n",
      "           0       0.86      0.87      0.87      5964\n",
      "           1       0.87      0.86      0.87      6036\n",
      "\n",
      "    accuracy                           0.87     12000\n",
      "   macro avg       0.87      0.87      0.87     12000\n",
      "weighted avg       0.87      0.87      0.87     12000\n",
      "\n"
     ]
    }
   ],
   "source": [
    "print(classification_report(Y_test,y_perd))"
   ]
  },
  {
   "cell_type": "markdown",
   "id": "140e71f9-0c8a-41f4-a617-fd8ec8fe0a8d",
   "metadata": {},
   "source": [
    "# **MLP**"
   ]
  },
  {
   "cell_type": "code",
   "execution_count": 51,
   "id": "96252e56-0244-4fbe-8394-d9c4ad761a6b",
   "metadata": {},
   "outputs": [
    {
     "name": "stdout",
     "output_type": "stream",
     "text": [
      "Iteration 1, loss = 0.64923253\n",
      "Iteration 2, loss = 0.57156420\n",
      "Iteration 3, loss = 0.49989829\n",
      "Iteration 4, loss = 0.43806958\n",
      "Iteration 5, loss = 0.38723669\n",
      "Iteration 6, loss = 0.34141754\n",
      "Iteration 7, loss = 0.30666829\n",
      "Iteration 8, loss = 0.27665590\n",
      "Iteration 9, loss = 0.24882694\n",
      "Iteration 10, loss = 0.22855150\n",
      "Iteration 11, loss = 0.21135745\n",
      "Iteration 12, loss = 0.19222699\n",
      "Iteration 13, loss = 0.17995885\n",
      "Iteration 14, loss = 0.16726303\n",
      "Iteration 15, loss = 0.15594231\n",
      "Iteration 16, loss = 0.14580126\n",
      "Iteration 17, loss = 0.13712353\n",
      "Iteration 18, loss = 0.13041863\n",
      "Iteration 19, loss = 0.12215156\n",
      "Iteration 20, loss = 0.11441532\n",
      "Iteration 21, loss = 0.10726096\n",
      "Iteration 22, loss = 0.10137261\n",
      "Iteration 23, loss = 0.09723298\n",
      "Iteration 24, loss = 0.09091265\n",
      "Iteration 25, loss = 0.08683878\n",
      "Iteration 26, loss = 0.08078901\n",
      "Iteration 27, loss = 0.07834100\n",
      "Iteration 28, loss = 0.07559035\n",
      "Iteration 29, loss = 0.06859622\n",
      "Iteration 30, loss = 0.06602388\n",
      "Iteration 31, loss = 0.06316893\n",
      "Iteration 32, loss = 0.05900236\n",
      "Iteration 33, loss = 0.05816023\n",
      "Iteration 34, loss = 0.05253141\n",
      "Iteration 35, loss = 0.05058232\n",
      "Iteration 36, loss = 0.05054893\n",
      "Iteration 37, loss = 0.04623199\n",
      "Iteration 38, loss = 0.04536244\n",
      "Iteration 39, loss = 0.04097431\n",
      "Iteration 40, loss = 0.03963807\n",
      "Iteration 41, loss = 0.03779307\n",
      "Iteration 42, loss = 0.03509783\n",
      "Iteration 43, loss = 0.03484305\n",
      "Iteration 44, loss = 0.03245436\n",
      "Iteration 45, loss = 0.03112527\n",
      "Iteration 46, loss = 0.03052065\n",
      "Iteration 47, loss = 0.02791680\n",
      "Iteration 48, loss = 0.02720356\n",
      "Iteration 49, loss = 0.02572366\n",
      "Iteration 50, loss = 0.02419740\n",
      "Iteration 51, loss = 0.02350531\n",
      "Iteration 52, loss = 0.02280901\n",
      "Iteration 53, loss = 0.01990721\n",
      "Iteration 54, loss = 0.01989073\n",
      "Iteration 55, loss = 0.01833527\n",
      "Iteration 56, loss = 0.01788309\n",
      "Iteration 57, loss = 0.01733188\n",
      "Iteration 58, loss = 0.01579637\n",
      "Iteration 59, loss = 0.01459545\n",
      "Iteration 60, loss = 0.01728648\n",
      "Iteration 61, loss = 0.01404365\n",
      "Iteration 62, loss = 0.01438896\n",
      "Iteration 63, loss = 0.01230176\n",
      "Iteration 64, loss = 0.01240455\n",
      "Iteration 65, loss = 0.01087030\n",
      "Iteration 66, loss = 0.01037109\n",
      "Iteration 67, loss = 0.00996143\n",
      "Iteration 68, loss = 0.01035048\n",
      "Iteration 69, loss = 0.01196206\n",
      "Iteration 70, loss = 0.00895113\n",
      "Iteration 71, loss = 0.00777567\n",
      "Iteration 72, loss = 0.00889086\n",
      "Iteration 73, loss = 0.00798590\n",
      "Iteration 74, loss = 0.00723801\n",
      "Iteration 75, loss = 0.00683195\n",
      "Iteration 76, loss = 0.00755804\n",
      "Iteration 77, loss = 0.00615676\n",
      "Iteration 78, loss = 0.02884326\n",
      "Iteration 79, loss = 0.00536291\n",
      "Iteration 80, loss = 0.00485805\n",
      "Iteration 81, loss = 0.00480335\n",
      "Iteration 82, loss = 0.00478645\n",
      "Iteration 83, loss = 0.00456275\n",
      "Iteration 84, loss = 0.00444925\n",
      "Iteration 85, loss = 0.00417394\n",
      "Iteration 86, loss = 0.00410045\n",
      "Iteration 87, loss = 0.00408968\n",
      "Iteration 88, loss = 0.00378448\n",
      "Iteration 89, loss = 0.00382652\n",
      "Iteration 90, loss = 0.00369603\n",
      "Iteration 91, loss = 0.00351786\n",
      "Iteration 92, loss = 0.00353600\n",
      "Iteration 93, loss = 0.00349357\n",
      "Iteration 94, loss = 0.00359552\n",
      "Iteration 95, loss = 0.00309597\n",
      "Iteration 96, loss = 0.00305827\n",
      "Iteration 97, loss = 0.00451559\n",
      "Iteration 98, loss = 0.00324094\n",
      "Iteration 99, loss = 0.00257621\n",
      "Iteration 100, loss = 0.00260710\n",
      "Iteration 101, loss = 0.00231179\n",
      "Iteration 102, loss = 0.00295267\n",
      "Iteration 103, loss = 0.00281778\n",
      "Iteration 104, loss = 0.01592229\n",
      "Iteration 105, loss = 0.00874497\n",
      "Iteration 106, loss = 0.00215010\n",
      "Iteration 107, loss = 0.00186028\n",
      "Iteration 108, loss = 0.00174670\n",
      "Iteration 109, loss = 0.00172791\n",
      "Iteration 110, loss = 0.00173655\n",
      "Iteration 111, loss = 0.00167008\n",
      "Iteration 112, loss = 0.00152049\n",
      "Iteration 113, loss = 0.00151673\n",
      "Iteration 114, loss = 0.00147563\n",
      "Iteration 115, loss = 0.00142411\n",
      "Iteration 116, loss = 0.00183261\n",
      "Iteration 117, loss = 0.00282144\n",
      "Iteration 118, loss = 0.00191379\n",
      "Iteration 119, loss = 0.00127757\n",
      "Iteration 120, loss = 0.00125386\n",
      "Iteration 121, loss = 0.00124630\n",
      "Iteration 122, loss = 0.00120254\n",
      "Iteration 123, loss = 0.00116662\n",
      "Iteration 124, loss = 0.00157987\n",
      "Iteration 125, loss = 0.00110316\n",
      "Iteration 126, loss = 0.00103677\n",
      "Iteration 127, loss = 0.00104592\n",
      "Iteration 128, loss = 0.00105122\n",
      "Iteration 129, loss = 0.00103248\n",
      "Iteration 130, loss = 0.01318883\n",
      "Training loss did not improve more than tol=0.000100 for 10 consecutive epochs. Stopping.\n"
     ]
    }
   ],
   "source": [
    "mlp= MLPClassifier(hidden_layer_sizes=(250,40), max_iter=300,solver=\"adam\",learning_rate_init=0.0001,verbose=True).fit(X_train,Y_train)"
   ]
  },
  {
   "cell_type": "code",
   "execution_count": 52,
   "id": "39a1ac41-ef8d-44ea-945a-46e34f82d932",
   "metadata": {},
   "outputs": [
    {
     "data": {
      "text/plain": [
       "0.9750833333333333"
      ]
     },
     "execution_count": 52,
     "metadata": {},
     "output_type": "execute_result"
    }
   ],
   "source": [
    "y_perd=mlp.predict(X_test)\n",
    "accuracy_score(Y_test, y_perd)"
   ]
  },
  {
   "cell_type": "code",
   "execution_count": 53,
   "id": "bbf4bc56-ff13-4eb6-ac70-2011dcee8fbb",
   "metadata": {},
   "outputs": [
    {
     "data": {
      "text/plain": [
       "6036"
      ]
     },
     "execution_count": 53,
     "metadata": {},
     "output_type": "execute_result"
    }
   ],
   "source": [
    "Y_test.sum()"
   ]
  },
  {
   "cell_type": "code",
   "execution_count": 54,
   "id": "a0cc7544-306e-4b78-9a14-a9e69e3ecf84",
   "metadata": {},
   "outputs": [],
   "source": [
    "teste_predicted=mlp.predict(features_test)\n",
    "teste_predicted=teste_predicted.reshape(2000,1)\n",
    "d=np.arange(2000).reshape(2000,1)\n",
    "#data=np.column_stack((d,teste_predicted))\n",
    "data=np.hstack([d, teste_predicted])\n",
    "data=pd.DataFrame(data,columns=[\"Id\",\"Category\"])\n",
    "#data.to_csv('sobel_MLP.csv', index=False)\n",
    "data.to_csv('predict_MLP.csv', index=False)#'predict_MLP.csv'"
   ]
  },
  {
   "cell_type": "code",
   "execution_count": 55,
   "id": "bd2c7faf-a0e2-45d8-ba91-61a14c6b7bea",
   "metadata": {},
   "outputs": [
    {
     "data": {
      "text/plain": [
       "1010"
      ]
     },
     "execution_count": 55,
     "metadata": {},
     "output_type": "execute_result"
    }
   ],
   "source": [
    "teste_predicted.sum()"
   ]
  },
  {
   "cell_type": "code",
   "execution_count": 56,
   "id": "632150d6-57fa-4c85-8632-5b27d58e4e13",
   "metadata": {},
   "outputs": [
    {
     "name": "stdout",
     "output_type": "stream",
     "text": [
      "              precision    recall  f1-score   support\n",
      "\n",
      "           0       0.97      0.98      0.97      5964\n",
      "           1       0.98      0.97      0.98      6036\n",
      "\n",
      "    accuracy                           0.98     12000\n",
      "   macro avg       0.98      0.98      0.98     12000\n",
      "weighted avg       0.98      0.98      0.98     12000\n",
      "\n"
     ]
    }
   ],
   "source": [
    "print(classification_report(Y_test,y_perd))"
   ]
  },
  {
   "cell_type": "markdown",
   "id": "3d33071f-e525-494e-bc2a-038b93b0863f",
   "metadata": {},
   "source": [
    "# **Naive Bayes**"
   ]
  },
  {
   "cell_type": "code",
   "execution_count": 57,
   "id": "f2e8309f-5f3e-4e38-99a3-fbe381890786",
   "metadata": {},
   "outputs": [],
   "source": [
    "nb = GaussianNB().fit(X_train,Y_train)"
   ]
  },
  {
   "cell_type": "code",
   "execution_count": 58,
   "id": "9d5b8510-8a7d-4f43-bdd1-6ec174b4425d",
   "metadata": {},
   "outputs": [
    {
     "data": {
      "text/plain": [
       "0.5285833333333333"
      ]
     },
     "execution_count": 58,
     "metadata": {},
     "output_type": "execute_result"
    }
   ],
   "source": [
    "y_perd=nb.predict(X_test)\n",
    "accuracy_score(Y_test, y_perd)"
   ]
  },
  {
   "cell_type": "code",
   "execution_count": 59,
   "id": "a390c12e-f527-4e71-afd3-86e68d6ab97f",
   "metadata": {},
   "outputs": [
    {
     "data": {
      "text/plain": [
       "158"
      ]
     },
     "execution_count": 59,
     "metadata": {},
     "output_type": "execute_result"
    }
   ],
   "source": [
    "teste_predicted=nb.predict(features_test)\n",
    "teste_predicted.sum()"
   ]
  },
  {
   "cell_type": "code",
   "execution_count": 60,
   "id": "a326184b-58ca-4a96-a581-ac89d27597ce",
   "metadata": {},
   "outputs": [],
   "source": [
    "teste_predicted=teste_predicted.reshape(2000,1)\n",
    "d=np.arange(2000).reshape(2000,1)\n",
    "#data=np.column_stack((d,teste_predicted))\n",
    "data=np.hstack([d, teste_predicted])\n",
    "data=pd.DataFrame(data,columns=[\"Id\",\"Category\"])\n",
    "data.to_csv('predict_NBayes.csv', index=False)\n",
    "#data.to_csv('sobel_NBayes.csv', index=False)"
   ]
  },
  {
   "cell_type": "code",
   "execution_count": 61,
   "id": "4b9ac7c1-af7b-4c08-8649-70e40ca69e75",
   "metadata": {},
   "outputs": [
    {
     "name": "stdout",
     "output_type": "stream",
     "text": [
      "              precision    recall  f1-score   support\n",
      "\n",
      "           0       0.51      0.94      0.66      5964\n",
      "           1       0.67      0.12      0.21      6036\n",
      "\n",
      "    accuracy                           0.53     12000\n",
      "   macro avg       0.59      0.53      0.44     12000\n",
      "weighted avg       0.59      0.53      0.43     12000\n",
      "\n"
     ]
    }
   ],
   "source": [
    "print(classification_report(Y_test,y_perd))"
   ]
  },
  {
   "cell_type": "markdown",
   "id": "31cc553a-aaca-4067-ab2e-592590485137",
   "metadata": {},
   "source": [
    "# **SVM**"
   ]
  },
  {
   "cell_type": "code",
   "execution_count": 62,
   "id": "0b261e1b-c055-4946-bde4-e1ca57e0cc06",
   "metadata": {},
   "outputs": [
    {
     "name": "stdout",
     "output_type": "stream",
     "text": [
      "[LibSVM]"
     ]
    }
   ],
   "source": [
    "svm = SVC(kernel= 'rbf', gamma='scale',class_weight='balanced',verbose=True ).fit(X_train,Y_train)"
   ]
  },
  {
   "cell_type": "code",
   "execution_count": 63,
   "id": "1da90244-5c4e-4c01-8d2b-698b2abdf534",
   "metadata": {},
   "outputs": [
    {
     "data": {
      "text/plain": [
       "0.9695"
      ]
     },
     "execution_count": 63,
     "metadata": {},
     "output_type": "execute_result"
    }
   ],
   "source": [
    "y_perd=svm.predict(X_test)\n",
    "accuracy_score(Y_test, y_perd)"
   ]
  },
  {
   "cell_type": "code",
   "execution_count": 64,
   "id": "ea79749d-e86c-40d3-8bae-a22fed188cbd",
   "metadata": {},
   "outputs": [
    {
     "data": {
      "text/plain": [
       "1005"
      ]
     },
     "execution_count": 64,
     "metadata": {},
     "output_type": "execute_result"
    }
   ],
   "source": [
    "teste_predicted=svm.predict(features_test)\n",
    "teste_predicted.sum()"
   ]
  },
  {
   "cell_type": "code",
   "execution_count": 65,
   "id": "76e06813-18a7-4046-abfe-ac5d96bc5027",
   "metadata": {},
   "outputs": [],
   "source": [
    "teste_predicted=teste_predicted.reshape(2000,1)\n",
    "d=np.arange(2000).reshape(2000,1)\n",
    "#data=np.column_stack((d,teste_predicted))\n",
    "data=np.hstack([d, teste_predicted])\n",
    "data=pd.DataFrame(data,columns=[\"Id\",\"Category\"])\n",
    "data.to_csv('predict_SVM.csv', index=False)"
   ]
  },
  {
   "cell_type": "code",
   "execution_count": 66,
   "id": "254d55e0-9ee1-4187-a260-476687b324bb",
   "metadata": {},
   "outputs": [
    {
     "name": "stdout",
     "output_type": "stream",
     "text": [
      "              precision    recall  f1-score   support\n",
      "\n",
      "           0       0.97      0.97      0.97      5964\n",
      "           1       0.97      0.97      0.97      6036\n",
      "\n",
      "    accuracy                           0.97     12000\n",
      "   macro avg       0.97      0.97      0.97     12000\n",
      "weighted avg       0.97      0.97      0.97     12000\n",
      "\n"
     ]
    }
   ],
   "source": [
    "print(classification_report(Y_test,y_perd))"
   ]
  },
  {
   "cell_type": "markdown",
   "id": "1dec08f4-847c-4014-b394-4ce106c37e06",
   "metadata": {},
   "source": [
    "# **CNN**"
   ]
  },
  {
   "cell_type": "code",
   "execution_count": 67,
   "id": "dae72c6c-ac39-4170-9739-787de283f571",
   "metadata": {},
   "outputs": [],
   "source": [
    "data_train = pd.read_csv('dataset_treino.csv')\n",
    "data_teste = pd.read_csv('dataset_teste.csv')\n",
    "\n",
    "Y = data_train.iloc[:,0].astype(int)\n",
    "X = data_train.iloc[:,1:]\n",
    "X_test = data_teste.to_numpy()\n",
    "X_test = X_test/255\n",
    "\n",
    "X_train, X_val,Y_train,Y_val = train_test_split(X,Y, test_size=0.30,shuffle=True, random_state=42) \n",
    "\n",
    "Y_train = Y_train.to_numpy()\n",
    "X_train = X_train.to_numpy()\n",
    "Y_val=Y_val.to_numpy()\n",
    "X_val=X_val.to_numpy()\n",
    "\n",
    "\n",
    "X_train = X_train/255\n",
    "X_val=X_val/255"
   ]
  },
  {
   "cell_type": "code",
   "execution_count": 68,
   "id": "bacb5e54-8e2f-44a6-84cf-1d17a6d58bd8",
   "metadata": {},
   "outputs": [],
   "source": [
    "X_train=X_train.reshape(28000,28,28)\n",
    "X_val=X_val.reshape(12000,28,28)\n",
    "X_test=X_test.reshape(2000,28,28)"
   ]
  },
  {
   "cell_type": "code",
   "execution_count": 69,
   "id": "02af49cf-7c93-469e-9265-bc1532e0ec9c",
   "metadata": {},
   "outputs": [
    {
     "data": {
      "text/plain": [
       "(28000,)"
      ]
     },
     "execution_count": 69,
     "metadata": {},
     "output_type": "execute_result"
    }
   ],
   "source": [
    "Y_train.shape"
   ]
  },
  {
   "cell_type": "code",
   "execution_count": 70,
   "id": "8af0a82e-1b22-4338-9b82-5f5a2cc587c9",
   "metadata": {},
   "outputs": [],
   "source": [
    "#definição de modelo\n",
    "model = tf.keras.models.Sequential([\n",
    "tf.keras.layers.Convolution2D(16, (3,3), activation='relu', input_shape=(28,28,1), padding='same'),\n",
    "tf.keras.layers.BatchNormalization(),\n",
    "\n",
    "tf.keras.layers.Convolution2D(32, (3,3), activation='relu', padding='same'),\n",
    "tf.keras.layers.BatchNormalization(),         \n",
    "\n",
    "tf.keras.layers.Convolution2D(64, (3,3), activation='relu', padding='same'),\n",
    "tf.keras.layers.BatchNormalization(),    \n",
    "          \n",
    "tf.keras.layers.Flatten(),\n",
    "\n",
    "tf.keras.layers.Dense(128, activation='relu'), #adding the hidden layer\n",
    "tf.keras.layers.Dropout(0.5),\n",
    "tf.keras.layers.Dense(2,activation='softmax')#softmax#2\n",
    "])"
   ]
  },
  {
   "cell_type": "code",
   "execution_count": 71,
   "id": "b1cbdb38-a9e3-4741-8163-5787aa60fe9d",
   "metadata": {},
   "outputs": [
    {
     "name": "stdout",
     "output_type": "stream",
     "text": [
      "Model: \"sequential\"\n",
      "_________________________________________________________________\n",
      " Layer (type)                Output Shape              Param #   \n",
      "=================================================================\n",
      " conv2d (Conv2D)             (None, 28, 28, 16)        160       \n",
      "                                                                 \n",
      " batch_normalization (BatchN  (None, 28, 28, 16)       64        \n",
      " ormalization)                                                   \n",
      "                                                                 \n",
      " conv2d_1 (Conv2D)           (None, 28, 28, 32)        4640      \n",
      "                                                                 \n",
      " batch_normalization_1 (Batc  (None, 28, 28, 32)       128       \n",
      " hNormalization)                                                 \n",
      "                                                                 \n",
      " conv2d_2 (Conv2D)           (None, 28, 28, 64)        18496     \n",
      "                                                                 \n",
      " batch_normalization_2 (Batc  (None, 28, 28, 64)       256       \n",
      " hNormalization)                                                 \n",
      "                                                                 \n",
      " flatten (Flatten)           (None, 50176)             0         \n",
      "                                                                 \n",
      " dense (Dense)               (None, 128)               6422656   \n",
      "                                                                 \n",
      " dropout (Dropout)           (None, 128)               0         \n",
      "                                                                 \n",
      " dense_1 (Dense)             (None, 2)                 258       \n",
      "                                                                 \n",
      "=================================================================\n",
      "Total params: 6,446,658\n",
      "Trainable params: 6,446,434\n",
      "Non-trainable params: 224\n",
      "_________________________________________________________________\n"
     ]
    }
   ],
   "source": [
    "model.summary()"
   ]
  },
  {
   "cell_type": "code",
   "execution_count": null,
   "id": "34eb7839-cee5-4e4a-833f-32208b7a2785",
   "metadata": {},
   "outputs": [
    {
     "name": "stdout",
     "output_type": "stream",
     "text": [
      "Epoch 1/8\n",
      "700/700 [==============================] - 90s 127ms/step - loss: 0.6119 - accuracy: 0.7733 - val_loss: 0.2228 - val_accuracy: 0.9171\n",
      "Epoch 2/8\n",
      "700/700 [==============================] - 85s 122ms/step - loss: 0.1716 - accuracy: 0.9292 - val_loss: 0.0586 - val_accuracy: 0.9820\n",
      "Epoch 3/8\n",
      "700/700 [==============================] - 82s 117ms/step - loss: 0.0890 - accuracy: 0.9648 - val_loss: 0.0878 - val_accuracy: 0.9654\n",
      "Epoch 4/8\n",
      "700/700 [==============================] - 83s 119ms/step - loss: 0.0632 - accuracy: 0.9768 - val_loss: 0.0331 - val_accuracy: 0.9879\n",
      "Epoch 5/8\n",
      "700/700 [==============================] - 81s 115ms/step - loss: 0.0643 - accuracy: 0.9786 - val_loss: 0.0254 - val_accuracy: 0.9911\n",
      "Epoch 6/8\n",
      "700/700 [==============================] - 81s 116ms/step - loss: 0.0401 - accuracy: 0.9854 - val_loss: 0.0397 - val_accuracy: 0.9857\n",
      "Epoch 7/8\n",
      "700/700 [==============================] - 84s 120ms/step - loss: 0.0435 - accuracy: 0.9868 - val_loss: 0.0241 - val_accuracy: 0.9916\n",
      "Epoch 8/8\n",
      "700/700 [==============================] - ETA: 0s - loss: 0.0323 - accuracy: 0.9891"
     ]
    }
   ],
   "source": [
    "#compiling the model        \n",
    "model.compile(optimizer='adam', loss=tf.keras.losses.SparseCategoricalCrossentropy(),metrics=['accuracy'])\n",
    "history = model.fit(X_train,Y_train, epochs = 8, validation_split=0.2)\n",
    "\n"
   ]
  },
  {
   "cell_type": "code",
   "execution_count": null,
   "id": "26ffd6b9-d9f1-4e1f-b121-2b8f4212793b",
   "metadata": {},
   "outputs": [],
   "source": [
    "plt.plot(history.history['accuracy'], label='acc_train')\n",
    "plt.plot(history.history['val_accuracy'], label='acc_test')\n",
    "plt.legend()\n",
    "plt.show()"
   ]
  },
  {
   "cell_type": "code",
   "execution_count": null,
   "id": "16851300-d154-4c80-9907-35ff7ad29543",
   "metadata": {},
   "outputs": [],
   "source": [
    "plt.plot(history.history['loss'], label='loss_train')\n",
    "plt.plot(history.history['val_loss'], label='loss_test')\n",
    "plt.legend()\n",
    "plt.show()"
   ]
  },
  {
   "cell_type": "code",
   "execution_count": null,
   "id": "d0d5dc36-02db-41e2-bb72-e95873c933e4",
   "metadata": {},
   "outputs": [],
   "source": [
    "teste_predicted=model.predict(X_test)\n",
    "print(teste_predicted)\n",
    "teste_predicted.shape"
   ]
  },
  {
   "cell_type": "code",
   "execution_count": null,
   "id": "3afc3672-7106-4147-b546-5699d9b1ea29",
   "metadata": {},
   "outputs": [],
   "source": [
    "teste_pred=np.arange(2000).reshape(2000,1)\n",
    "for i in range(2000):\n",
    "    if(teste_predicted[i,0] > teste_predicted[i,1]):\n",
    "        teste_pred[i,0]=0\n",
    "    else:\n",
    "        teste_pred[i,0]=1"
   ]
  },
  {
   "cell_type": "code",
   "execution_count": null,
   "id": "3a396ed0-058e-40d7-89bb-9b20dfd1f946",
   "metadata": {},
   "outputs": [],
   "source": [
    "teste_pred.sum()"
   ]
  },
  {
   "cell_type": "code",
   "execution_count": null,
   "id": "a2c765b0-8dfa-4823-96e6-1d1676209d19",
   "metadata": {},
   "outputs": [],
   "source": [
    "#teste_predicted=teste_predicted.reshape(2000,1)\n",
    "d=np.arange(2000).reshape(2000,1)\n",
    "#data=np.column_stack((d,teste_predicted))\n",
    "data=np.hstack([d, teste_pred])\n",
    "data=pd.DataFrame(data,columns=[\"Id\",\"Category\"])\n",
    "data.to_csv('predict_CNN.csv', index=False)"
   ]
  },
  {
   "cell_type": "code",
   "execution_count": null,
   "id": "73fbfa16-7ea9-4937-a17d-91baaf8b8776",
   "metadata": {},
   "outputs": [],
   "source": []
  },
  {
   "cell_type": "code",
   "execution_count": null,
   "id": "87f33033-7ed0-44be-83d9-75c9c89289d5",
   "metadata": {},
   "outputs": [],
   "source": [
    "\n"
   ]
  }
 ],
 "metadata": {
  "kernelspec": {
   "display_name": "Python 3 (ipykernel)",
   "language": "python",
   "name": "python3"
  },
  "language_info": {
   "codemirror_mode": {
    "name": "ipython",
    "version": 3
   },
   "file_extension": ".py",
   "mimetype": "text/x-python",
   "name": "python",
   "nbconvert_exporter": "python",
   "pygments_lexer": "ipython3",
   "version": "3.10.2"
  }
 },
 "nbformat": 4,
 "nbformat_minor": 5
}
